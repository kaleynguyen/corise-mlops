{
  "nbformat": 4,
  "nbformat_minor": 0,
  "metadata": {
    "colab": {
      "name": "[MLOps] Week 2 starter.ipynb",
      "provenance": [],
      "collapsed_sections": [],
      "include_colab_link": true
    },
    "kernelspec": {
      "name": "python3",
      "display_name": "Python 3"
    },
    "language_info": {
      "name": "python"
    }
  },
  "cells": [
    {
      "cell_type": "markdown",
      "metadata": {
        "id": "view-in-github",
        "colab_type": "text"
      },
      "source": [
        "<a href=\"https://colab.research.google.com/github/kaleynguyen/corise-mlops/blob/main/notebooks/Week_2_starter.ipynb\" target=\"_parent\"><img src=\"https://colab.research.google.com/assets/colab-badge.svg\" alt=\"Open In Colab\"/></a>"
      ]
    },
    {
      "cell_type": "markdown",
      "source": [
        ""
      ],
      "metadata": {
        "id": "ZMsGNRLXi_e2"
      }
    },
    {
      "cell_type": "markdown",
      "source": [
        "# Introduction\n",
        "\n",
        "### Problem\n",
        "\n",
        "In the project this week, we will conduct detailed model evaluation, data quality testing and behavioral testing for the news classification model from the week 1 project.\n",
        "\n",
        "1. We will look at evaluation metrics beyond overall accuracy and f1 score (per-class metrics, confusion matrix, per-class false positive and false negative errors)\n",
        "2. We will implement bootstrap sampling to measure confidence intervals of model performance metrics\n",
        "3. We will implement behavioral tests using a popular open source library called checklist\n",
        "4. [advanced] Advanced data quality and behavioral tests\n",
        "\n",
        "### Deliverables\n",
        "1. Test set per-class accuracy, precision, recall and F-1 score\n",
        "2. Test set confusion matrix, and per-class false positive, false negative errors \n",
        "3. 95% confidence intervals for test set metrics as estimated via bootstrap sampling\n",
        "4. Behavioral tests for the trained news classification model, using checklist. \n",
        "5. [Optional] Advanced data quality and behavioral tests\n",
        "\n"
      ],
      "metadata": {
        "id": "u7Svh2auXQzQ"
      }
    },
    {
      "cell_type": "markdown",
      "source": [
        "## Step1: Prereqs & Installation\n",
        "\n",
        "Download & Import all the necessary libraries we need throughout the project."
      ],
      "metadata": {
        "id": "SaGcjyaNXW5Q"
      }
    },
    {
      "cell_type": "code",
      "source": [
        "# Install all the required dependencies for the project\n",
        "\n",
        "!pip install numpy\n",
        "!pip install scikit-learn\n",
        "!pip install gensim\n",
        "!pip install sentence-transformers\n",
        "!pip install matplotlib\n",
        "!pip install great_expectations"
      ],
      "metadata": {
        "id": "TCU9I7qyXUHf",
        "outputId": "dad31a9b-357a-4519-98df-9dd1bd00ff8f",
        "colab": {
          "base_uri": "https://localhost:8080/",
          "height": 1000
        }
      },
      "execution_count": 1,
      "outputs": [
        {
          "output_type": "stream",
          "name": "stdout",
          "text": [
            "Looking in indexes: https://pypi.org/simple, https://us-python.pkg.dev/colab-wheels/public/simple/\n",
            "Requirement already satisfied: numpy in /usr/local/lib/python3.7/dist-packages (1.21.6)\n",
            "Looking in indexes: https://pypi.org/simple, https://us-python.pkg.dev/colab-wheels/public/simple/\n",
            "Requirement already satisfied: scikit-learn in /usr/local/lib/python3.7/dist-packages (1.0.2)\n",
            "Requirement already satisfied: joblib>=0.11 in /usr/local/lib/python3.7/dist-packages (from scikit-learn) (1.1.0)\n",
            "Requirement already satisfied: threadpoolctl>=2.0.0 in /usr/local/lib/python3.7/dist-packages (from scikit-learn) (3.1.0)\n",
            "Requirement already satisfied: numpy>=1.14.6 in /usr/local/lib/python3.7/dist-packages (from scikit-learn) (1.21.6)\n",
            "Requirement already satisfied: scipy>=1.1.0 in /usr/local/lib/python3.7/dist-packages (from scikit-learn) (1.7.3)\n",
            "Looking in indexes: https://pypi.org/simple, https://us-python.pkg.dev/colab-wheels/public/simple/\n",
            "Requirement already satisfied: gensim in /usr/local/lib/python3.7/dist-packages (3.6.0)\n",
            "Requirement already satisfied: six>=1.5.0 in /usr/local/lib/python3.7/dist-packages (from gensim) (1.15.0)\n",
            "Requirement already satisfied: scipy>=0.18.1 in /usr/local/lib/python3.7/dist-packages (from gensim) (1.7.3)\n",
            "Requirement already satisfied: smart-open>=1.2.1 in /usr/local/lib/python3.7/dist-packages (from gensim) (5.2.1)\n",
            "Requirement already satisfied: numpy>=1.11.3 in /usr/local/lib/python3.7/dist-packages (from gensim) (1.21.6)\n",
            "Looking in indexes: https://pypi.org/simple, https://us-python.pkg.dev/colab-wheels/public/simple/\n",
            "Collecting sentence-transformers\n",
            "  Downloading sentence-transformers-2.2.2.tar.gz (85 kB)\n",
            "\u001b[K     |████████████████████████████████| 85 kB 3.5 MB/s \n",
            "\u001b[?25hCollecting transformers<5.0.0,>=4.6.0\n",
            "  Downloading transformers-4.20.1-py3-none-any.whl (4.4 MB)\n",
            "\u001b[K     |████████████████████████████████| 4.4 MB 18.2 MB/s \n",
            "\u001b[?25hRequirement already satisfied: tqdm in /usr/local/lib/python3.7/dist-packages (from sentence-transformers) (4.64.0)\n",
            "Requirement already satisfied: torch>=1.6.0 in /usr/local/lib/python3.7/dist-packages (from sentence-transformers) (1.12.0+cu113)\n",
            "Requirement already satisfied: torchvision in /usr/local/lib/python3.7/dist-packages (from sentence-transformers) (0.13.0+cu113)\n",
            "Requirement already satisfied: numpy in /usr/local/lib/python3.7/dist-packages (from sentence-transformers) (1.21.6)\n",
            "Requirement already satisfied: scikit-learn in /usr/local/lib/python3.7/dist-packages (from sentence-transformers) (1.0.2)\n",
            "Requirement already satisfied: scipy in /usr/local/lib/python3.7/dist-packages (from sentence-transformers) (1.7.3)\n",
            "Requirement already satisfied: nltk in /usr/local/lib/python3.7/dist-packages (from sentence-transformers) (3.7)\n",
            "Collecting sentencepiece\n",
            "  Downloading sentencepiece-0.1.96-cp37-cp37m-manylinux_2_17_x86_64.manylinux2014_x86_64.whl (1.2 MB)\n",
            "\u001b[K     |████████████████████████████████| 1.2 MB 38.0 MB/s \n",
            "\u001b[?25hCollecting huggingface-hub>=0.4.0\n",
            "  Downloading huggingface_hub-0.8.1-py3-none-any.whl (101 kB)\n",
            "\u001b[K     |████████████████████████████████| 101 kB 6.6 MB/s \n",
            "\u001b[?25hRequirement already satisfied: filelock in /usr/local/lib/python3.7/dist-packages (from huggingface-hub>=0.4.0->sentence-transformers) (3.7.1)\n",
            "Requirement already satisfied: packaging>=20.9 in /usr/local/lib/python3.7/dist-packages (from huggingface-hub>=0.4.0->sentence-transformers) (21.3)\n",
            "Requirement already satisfied: importlib-metadata in /usr/local/lib/python3.7/dist-packages (from huggingface-hub>=0.4.0->sentence-transformers) (4.12.0)\n",
            "Requirement already satisfied: typing-extensions>=3.7.4.3 in /usr/local/lib/python3.7/dist-packages (from huggingface-hub>=0.4.0->sentence-transformers) (4.1.1)\n",
            "Collecting pyyaml>=5.1\n",
            "  Downloading PyYAML-6.0-cp37-cp37m-manylinux_2_5_x86_64.manylinux1_x86_64.manylinux_2_12_x86_64.manylinux2010_x86_64.whl (596 kB)\n",
            "\u001b[K     |████████████████████████████████| 596 kB 53.1 MB/s \n",
            "\u001b[?25hRequirement already satisfied: requests in /usr/local/lib/python3.7/dist-packages (from huggingface-hub>=0.4.0->sentence-transformers) (2.23.0)\n",
            "Requirement already satisfied: pyparsing!=3.0.5,>=2.0.2 in /usr/local/lib/python3.7/dist-packages (from packaging>=20.9->huggingface-hub>=0.4.0->sentence-transformers) (3.0.9)\n",
            "Requirement already satisfied: regex!=2019.12.17 in /usr/local/lib/python3.7/dist-packages (from transformers<5.0.0,>=4.6.0->sentence-transformers) (2022.6.2)\n",
            "Collecting tokenizers!=0.11.3,<0.13,>=0.11.1\n",
            "  Downloading tokenizers-0.12.1-cp37-cp37m-manylinux_2_12_x86_64.manylinux2010_x86_64.whl (6.6 MB)\n",
            "\u001b[K     |████████████████████████████████| 6.6 MB 40.9 MB/s \n",
            "\u001b[?25hRequirement already satisfied: zipp>=0.5 in /usr/local/lib/python3.7/dist-packages (from importlib-metadata->huggingface-hub>=0.4.0->sentence-transformers) (3.8.1)\n",
            "Requirement already satisfied: joblib in /usr/local/lib/python3.7/dist-packages (from nltk->sentence-transformers) (1.1.0)\n",
            "Requirement already satisfied: click in /usr/local/lib/python3.7/dist-packages (from nltk->sentence-transformers) (7.1.2)\n",
            "Requirement already satisfied: idna<3,>=2.5 in /usr/local/lib/python3.7/dist-packages (from requests->huggingface-hub>=0.4.0->sentence-transformers) (2.10)\n",
            "Requirement already satisfied: certifi>=2017.4.17 in /usr/local/lib/python3.7/dist-packages (from requests->huggingface-hub>=0.4.0->sentence-transformers) (2022.6.15)\n",
            "Requirement already satisfied: chardet<4,>=3.0.2 in /usr/local/lib/python3.7/dist-packages (from requests->huggingface-hub>=0.4.0->sentence-transformers) (3.0.4)\n",
            "Requirement already satisfied: urllib3!=1.25.0,!=1.25.1,<1.26,>=1.21.1 in /usr/local/lib/python3.7/dist-packages (from requests->huggingface-hub>=0.4.0->sentence-transformers) (1.24.3)\n",
            "Requirement already satisfied: threadpoolctl>=2.0.0 in /usr/local/lib/python3.7/dist-packages (from scikit-learn->sentence-transformers) (3.1.0)\n",
            "Requirement already satisfied: pillow!=8.3.*,>=5.3.0 in /usr/local/lib/python3.7/dist-packages (from torchvision->sentence-transformers) (7.1.2)\n",
            "Building wheels for collected packages: sentence-transformers\n",
            "  Building wheel for sentence-transformers (setup.py) ... \u001b[?25l\u001b[?25hdone\n",
            "  Created wheel for sentence-transformers: filename=sentence_transformers-2.2.2-py3-none-any.whl size=125938 sha256=1ee691b2962e3e3c3da9fddac1b8bf18d9a2c1a793495f7c967603d72c365ca1\n",
            "  Stored in directory: /root/.cache/pip/wheels/bf/06/fb/d59c1e5bd1dac7f6cf61ec0036cc3a10ab8fecaa6b2c3d3ee9\n",
            "Successfully built sentence-transformers\n",
            "Installing collected packages: pyyaml, tokenizers, huggingface-hub, transformers, sentencepiece, sentence-transformers\n",
            "  Attempting uninstall: pyyaml\n",
            "    Found existing installation: PyYAML 3.13\n",
            "    Uninstalling PyYAML-3.13:\n",
            "      Successfully uninstalled PyYAML-3.13\n",
            "Successfully installed huggingface-hub-0.8.1 pyyaml-6.0 sentence-transformers-2.2.2 sentencepiece-0.1.96 tokenizers-0.12.1 transformers-4.20.1\n",
            "Looking in indexes: https://pypi.org/simple, https://us-python.pkg.dev/colab-wheels/public/simple/\n",
            "Requirement already satisfied: matplotlib in /usr/local/lib/python3.7/dist-packages (3.2.2)\n",
            "Requirement already satisfied: cycler>=0.10 in /usr/local/lib/python3.7/dist-packages (from matplotlib) (0.11.0)\n",
            "Requirement already satisfied: python-dateutil>=2.1 in /usr/local/lib/python3.7/dist-packages (from matplotlib) (2.8.2)\n",
            "Requirement already satisfied: kiwisolver>=1.0.1 in /usr/local/lib/python3.7/dist-packages (from matplotlib) (1.4.4)\n",
            "Requirement already satisfied: pyparsing!=2.0.4,!=2.1.2,!=2.1.6,>=2.0.1 in /usr/local/lib/python3.7/dist-packages (from matplotlib) (3.0.9)\n",
            "Requirement already satisfied: numpy>=1.11 in /usr/local/lib/python3.7/dist-packages (from matplotlib) (1.21.6)\n",
            "Requirement already satisfied: typing-extensions in /usr/local/lib/python3.7/dist-packages (from kiwisolver>=1.0.1->matplotlib) (4.1.1)\n",
            "Requirement already satisfied: six>=1.5 in /usr/local/lib/python3.7/dist-packages (from python-dateutil>=2.1->matplotlib) (1.15.0)\n",
            "Looking in indexes: https://pypi.org/simple, https://us-python.pkg.dev/colab-wheels/public/simple/\n",
            "Collecting great_expectations\n",
            "  Downloading great_expectations-0.15.15-py3-none-any.whl (5.1 MB)\n",
            "\u001b[K     |████████████████████████████████| 5.1 MB 8.3 MB/s \n",
            "\u001b[?25hCollecting ruamel.yaml<0.17.18,>=0.16\n",
            "  Downloading ruamel.yaml-0.17.17-py3-none-any.whl (109 kB)\n",
            "\u001b[K     |████████████████████████████████| 109 kB 61.3 MB/s \n",
            "\u001b[?25hRequirement already satisfied: pytz>=2021.3 in /usr/local/lib/python3.7/dist-packages (from great_expectations) (2022.1)\n",
            "Collecting jsonpatch>=1.22\n",
            "  Downloading jsonpatch-1.32-py2.py3-none-any.whl (12 kB)\n",
            "Collecting cryptography>=3.2\n",
            "  Downloading cryptography-37.0.4-cp36-abi3-manylinux_2_24_x86_64.whl (4.1 MB)\n",
            "\u001b[K     |████████████████████████████████| 4.1 MB 51.1 MB/s \n",
            "\u001b[?25hRequirement already satisfied: jinja2>=2.10 in /usr/local/lib/python3.7/dist-packages (from great_expectations) (2.11.3)\n",
            "Requirement already satisfied: typing-extensions>=3.10.0.0 in /usr/local/lib/python3.7/dist-packages (from great_expectations) (4.1.1)\n",
            "Requirement already satisfied: requests>=2.20 in /usr/local/lib/python3.7/dist-packages (from great_expectations) (2.23.0)\n",
            "Collecting colorama>=0.4.3\n",
            "  Downloading colorama-0.4.5-py2.py3-none-any.whl (16 kB)\n",
            "Collecting pyparsing<3,>=2.4\n",
            "  Downloading pyparsing-2.4.7-py2.py3-none-any.whl (67 kB)\n",
            "\u001b[K     |████████████████████████████████| 67 kB 6.5 MB/s \n",
            "\u001b[?25hRequirement already satisfied: pandas>=0.23.0 in /usr/local/lib/python3.7/dist-packages (from great_expectations) (1.3.5)\n",
            "Requirement already satisfied: scipy>=0.19.0 in /usr/local/lib/python3.7/dist-packages (from great_expectations) (1.7.3)\n",
            "Requirement already satisfied: tzlocal>=1.2 in /usr/local/lib/python3.7/dist-packages (from great_expectations) (1.5.1)\n",
            "Requirement already satisfied: nbformat>=5.0 in /usr/local/lib/python3.7/dist-packages (from great_expectations) (5.4.0)\n",
            "Requirement already satisfied: Click>=7.1.2 in /usr/local/lib/python3.7/dist-packages (from great_expectations) (7.1.2)\n",
            "Collecting Ipython>=7.16.3\n",
            "  Downloading ipython-7.34.0-py3-none-any.whl (793 kB)\n",
            "\u001b[K     |████████████████████████████████| 793 kB 36.8 MB/s \n",
            "\u001b[?25hCollecting urllib3<1.27,>=1.25.4\n",
            "  Downloading urllib3-1.26.10-py2.py3-none-any.whl (139 kB)\n",
            "\u001b[K     |████████████████████████████████| 139 kB 64.4 MB/s \n",
            "\u001b[?25hRequirement already satisfied: mistune>=0.8.4 in /usr/local/lib/python3.7/dist-packages (from great_expectations) (0.8.4)\n",
            "Requirement already satisfied: python-dateutil>=2.8.1 in /usr/local/lib/python3.7/dist-packages (from great_expectations) (2.8.2)\n",
            "Requirement already satisfied: jsonschema>=2.5.1 in /usr/local/lib/python3.7/dist-packages (from great_expectations) (4.3.3)\n",
            "Requirement already satisfied: termcolor>=1.1.0 in /usr/local/lib/python3.7/dist-packages (from great_expectations) (1.1.0)\n",
            "Requirement already satisfied: tqdm>=4.59.0 in /usr/local/lib/python3.7/dist-packages (from great_expectations) (4.64.0)\n",
            "Requirement already satisfied: importlib-metadata>=1.7.0 in /usr/local/lib/python3.7/dist-packages (from great_expectations) (4.12.0)\n",
            "Requirement already satisfied: packaging in /usr/local/lib/python3.7/dist-packages (from great_expectations) (21.3)\n",
            "Requirement already satisfied: altair<5,>=4.0.0 in /usr/local/lib/python3.7/dist-packages (from great_expectations) (4.2.0)\n",
            "Collecting notebook>=6.4.10\n",
            "  Downloading notebook-6.4.12-py3-none-any.whl (9.9 MB)\n",
            "\u001b[K     |████████████████████████████████| 9.9 MB 38.3 MB/s \n",
            "\u001b[?25hRequirement already satisfied: numpy>=1.14.1 in /usr/local/lib/python3.7/dist-packages (from great_expectations) (1.21.6)\n",
            "Requirement already satisfied: ipywidgets>=7.5.1 in /usr/local/lib/python3.7/dist-packages (from great_expectations) (7.7.1)\n",
            "Requirement already satisfied: entrypoints in /usr/local/lib/python3.7/dist-packages (from altair<5,>=4.0.0->great_expectations) (0.4)\n",
            "Requirement already satisfied: toolz in /usr/local/lib/python3.7/dist-packages (from altair<5,>=4.0.0->great_expectations) (0.12.0)\n",
            "Requirement already satisfied: cffi>=1.12 in /usr/local/lib/python3.7/dist-packages (from cryptography>=3.2->great_expectations) (1.15.1)\n",
            "Requirement already satisfied: pycparser in /usr/local/lib/python3.7/dist-packages (from cffi>=1.12->cryptography>=3.2->great_expectations) (2.21)\n",
            "Requirement already satisfied: zipp>=0.5 in /usr/local/lib/python3.7/dist-packages (from importlib-metadata>=1.7.0->great_expectations) (3.8.1)\n",
            "Collecting prompt-toolkit!=3.0.0,!=3.0.1,<3.1.0,>=2.0.0\n",
            "  Downloading prompt_toolkit-3.0.30-py3-none-any.whl (381 kB)\n",
            "\u001b[K     |████████████████████████████████| 381 kB 67.4 MB/s \n",
            "\u001b[?25hRequirement already satisfied: pickleshare in /usr/local/lib/python3.7/dist-packages (from Ipython>=7.16.3->great_expectations) (0.7.5)\n",
            "Requirement already satisfied: jedi>=0.16 in /usr/local/lib/python3.7/dist-packages (from Ipython>=7.16.3->great_expectations) (0.18.1)\n",
            "Requirement already satisfied: pygments in /usr/local/lib/python3.7/dist-packages (from Ipython>=7.16.3->great_expectations) (2.6.1)\n",
            "Requirement already satisfied: setuptools>=18.5 in /usr/local/lib/python3.7/dist-packages (from Ipython>=7.16.3->great_expectations) (57.4.0)\n",
            "Requirement already satisfied: traitlets>=4.2 in /usr/local/lib/python3.7/dist-packages (from Ipython>=7.16.3->great_expectations) (5.1.1)\n",
            "Requirement already satisfied: matplotlib-inline in /usr/local/lib/python3.7/dist-packages (from Ipython>=7.16.3->great_expectations) (0.1.3)\n",
            "Requirement already satisfied: backcall in /usr/local/lib/python3.7/dist-packages (from Ipython>=7.16.3->great_expectations) (0.2.0)\n",
            "Requirement already satisfied: decorator in /usr/local/lib/python3.7/dist-packages (from Ipython>=7.16.3->great_expectations) (4.4.2)\n",
            "Requirement already satisfied: pexpect>4.3 in /usr/local/lib/python3.7/dist-packages (from Ipython>=7.16.3->great_expectations) (4.8.0)\n",
            "Requirement already satisfied: jupyterlab-widgets>=1.0.0 in /usr/local/lib/python3.7/dist-packages (from ipywidgets>=7.5.1->great_expectations) (1.1.1)\n",
            "Requirement already satisfied: ipython-genutils~=0.2.0 in /usr/local/lib/python3.7/dist-packages (from ipywidgets>=7.5.1->great_expectations) (0.2.0)\n",
            "Requirement already satisfied: widgetsnbextension~=3.6.0 in /usr/local/lib/python3.7/dist-packages (from ipywidgets>=7.5.1->great_expectations) (3.6.1)\n",
            "Requirement already satisfied: ipykernel>=4.5.1 in /usr/local/lib/python3.7/dist-packages (from ipywidgets>=7.5.1->great_expectations) (4.10.1)\n",
            "Requirement already satisfied: tornado>=4.0 in /usr/local/lib/python3.7/dist-packages (from ipykernel>=4.5.1->ipywidgets>=7.5.1->great_expectations) (5.1.1)\n",
            "Requirement already satisfied: jupyter-client in /usr/local/lib/python3.7/dist-packages (from ipykernel>=4.5.1->ipywidgets>=7.5.1->great_expectations) (5.3.5)\n",
            "Requirement already satisfied: parso<0.9.0,>=0.8.0 in /usr/local/lib/python3.7/dist-packages (from jedi>=0.16->Ipython>=7.16.3->great_expectations) (0.8.3)\n",
            "Requirement already satisfied: MarkupSafe>=0.23 in /usr/local/lib/python3.7/dist-packages (from jinja2>=2.10->great_expectations) (2.0.1)\n",
            "Collecting jsonpointer>=1.9\n",
            "  Downloading jsonpointer-2.3-py2.py3-none-any.whl (7.8 kB)\n",
            "Requirement already satisfied: attrs>=17.4.0 in /usr/local/lib/python3.7/dist-packages (from jsonschema>=2.5.1->great_expectations) (21.4.0)\n",
            "Requirement already satisfied: pyrsistent!=0.17.0,!=0.17.1,!=0.17.2,>=0.14.0 in /usr/local/lib/python3.7/dist-packages (from jsonschema>=2.5.1->great_expectations) (0.18.1)\n",
            "Requirement already satisfied: importlib-resources>=1.4.0 in /usr/local/lib/python3.7/dist-packages (from jsonschema>=2.5.1->great_expectations) (5.8.0)\n",
            "Requirement already satisfied: fastjsonschema in /usr/local/lib/python3.7/dist-packages (from nbformat>=5.0->great_expectations) (2.16.1)\n",
            "Requirement already satisfied: jupyter-core in /usr/local/lib/python3.7/dist-packages (from nbformat>=5.0->great_expectations) (4.11.1)\n",
            "Requirement already satisfied: pyzmq>=17 in /usr/local/lib/python3.7/dist-packages (from notebook>=6.4.10->great_expectations) (23.2.0)\n",
            "Requirement already satisfied: Send2Trash>=1.8.0 in /usr/local/lib/python3.7/dist-packages (from notebook>=6.4.10->great_expectations) (1.8.0)\n",
            "Requirement already satisfied: prometheus-client in /usr/local/lib/python3.7/dist-packages (from notebook>=6.4.10->great_expectations) (0.14.1)\n",
            "Requirement already satisfied: argon2-cffi in /usr/local/lib/python3.7/dist-packages (from notebook>=6.4.10->great_expectations) (21.3.0)\n",
            "Requirement already satisfied: nest-asyncio>=1.5 in /usr/local/lib/python3.7/dist-packages (from notebook>=6.4.10->great_expectations) (1.5.5)\n",
            "Requirement already satisfied: nbconvert>=5 in /usr/local/lib/python3.7/dist-packages (from notebook>=6.4.10->great_expectations) (5.6.1)\n",
            "Collecting tornado>=4.0\n",
            "  Downloading tornado-6.2-cp37-abi3-manylinux_2_5_x86_64.manylinux1_x86_64.manylinux_2_17_x86_64.manylinux2014_x86_64.whl (423 kB)\n",
            "\u001b[K     |████████████████████████████████| 423 kB 45.2 MB/s \n",
            "\u001b[?25hRequirement already satisfied: terminado>=0.8.3 in /usr/local/lib/python3.7/dist-packages (from notebook>=6.4.10->great_expectations) (0.13.3)\n",
            "Requirement already satisfied: defusedxml in /usr/local/lib/python3.7/dist-packages (from nbconvert>=5->notebook>=6.4.10->great_expectations) (0.7.1)\n",
            "Requirement already satisfied: pandocfilters>=1.4.1 in /usr/local/lib/python3.7/dist-packages (from nbconvert>=5->notebook>=6.4.10->great_expectations) (1.5.0)\n",
            "Requirement already satisfied: testpath in /usr/local/lib/python3.7/dist-packages (from nbconvert>=5->notebook>=6.4.10->great_expectations) (0.6.0)\n",
            "Requirement already satisfied: bleach in /usr/local/lib/python3.7/dist-packages (from nbconvert>=5->notebook>=6.4.10->great_expectations) (5.0.1)\n",
            "Requirement already satisfied: ptyprocess>=0.5 in /usr/local/lib/python3.7/dist-packages (from pexpect>4.3->Ipython>=7.16.3->great_expectations) (0.7.0)\n",
            "Requirement already satisfied: wcwidth in /usr/local/lib/python3.7/dist-packages (from prompt-toolkit!=3.0.0,!=3.0.1,<3.1.0,>=2.0.0->Ipython>=7.16.3->great_expectations) (0.2.5)\n",
            "Requirement already satisfied: six>=1.5 in /usr/local/lib/python3.7/dist-packages (from python-dateutil>=2.8.1->great_expectations) (1.15.0)\n",
            "Requirement already satisfied: chardet<4,>=3.0.2 in /usr/local/lib/python3.7/dist-packages (from requests>=2.20->great_expectations) (3.0.4)\n",
            "Collecting urllib3<1.27,>=1.25.4\n",
            "  Downloading urllib3-1.25.11-py2.py3-none-any.whl (127 kB)\n",
            "\u001b[K     |████████████████████████████████| 127 kB 55.2 MB/s \n",
            "\u001b[?25hRequirement already satisfied: certifi>=2017.4.17 in /usr/local/lib/python3.7/dist-packages (from requests>=2.20->great_expectations) (2022.6.15)\n",
            "Requirement already satisfied: idna<3,>=2.5 in /usr/local/lib/python3.7/dist-packages (from requests>=2.20->great_expectations) (2.10)\n",
            "Collecting ruamel.yaml.clib>=0.1.2\n",
            "  Downloading ruamel.yaml.clib-0.2.6-cp37-cp37m-manylinux1_x86_64.whl (546 kB)\n",
            "\u001b[K     |████████████████████████████████| 546 kB 54.2 MB/s \n",
            "\u001b[?25hRequirement already satisfied: argon2-cffi-bindings in /usr/local/lib/python3.7/dist-packages (from argon2-cffi->notebook>=6.4.10->great_expectations) (21.2.0)\n",
            "Requirement already satisfied: webencodings in /usr/local/lib/python3.7/dist-packages (from bleach->nbconvert>=5->notebook>=6.4.10->great_expectations) (0.5.1)\n",
            "Installing collected packages: tornado, prompt-toolkit, Ipython, notebook, urllib3, ruamel.yaml.clib, pyparsing, jsonpointer, ruamel.yaml, jsonpatch, cryptography, colorama, great-expectations\n",
            "  Attempting uninstall: tornado\n",
            "    Found existing installation: tornado 5.1.1\n",
            "    Uninstalling tornado-5.1.1:\n",
            "      Successfully uninstalled tornado-5.1.1\n",
            "  Attempting uninstall: prompt-toolkit\n",
            "    Found existing installation: prompt-toolkit 1.0.18\n",
            "    Uninstalling prompt-toolkit-1.0.18:\n",
            "      Successfully uninstalled prompt-toolkit-1.0.18\n",
            "  Attempting uninstall: Ipython\n",
            "    Found existing installation: ipython 5.5.0\n",
            "    Uninstalling ipython-5.5.0:\n",
            "      Successfully uninstalled ipython-5.5.0\n",
            "  Attempting uninstall: notebook\n",
            "    Found existing installation: notebook 5.3.1\n",
            "    Uninstalling notebook-5.3.1:\n",
            "      Successfully uninstalled notebook-5.3.1\n",
            "  Attempting uninstall: urllib3\n",
            "    Found existing installation: urllib3 1.24.3\n",
            "    Uninstalling urllib3-1.24.3:\n",
            "      Successfully uninstalled urllib3-1.24.3\n",
            "  Attempting uninstall: pyparsing\n",
            "    Found existing installation: pyparsing 3.0.9\n",
            "    Uninstalling pyparsing-3.0.9:\n",
            "      Successfully uninstalled pyparsing-3.0.9\n",
            "\u001b[31mERROR: pip's dependency resolver does not currently take into account all the packages that are installed. This behaviour is the source of the following dependency conflicts.\n",
            "jupyter-console 5.2.0 requires prompt-toolkit<2.0.0,>=1.0.0, but you have prompt-toolkit 3.0.30 which is incompatible.\n",
            "google-colab 1.0.0 requires ipython~=5.5.0, but you have ipython 7.34.0 which is incompatible.\n",
            "google-colab 1.0.0 requires notebook~=5.3.0, but you have notebook 6.4.12 which is incompatible.\n",
            "google-colab 1.0.0 requires tornado~=5.1.0, but you have tornado 6.2 which is incompatible.\n",
            "datascience 0.10.6 requires folium==0.2.1, but you have folium 0.8.3 which is incompatible.\n",
            "albumentations 0.1.12 requires imgaug<0.2.7,>=0.2.5, but you have imgaug 0.2.9 which is incompatible.\u001b[0m\n",
            "Successfully installed Ipython-7.34.0 colorama-0.4.5 cryptography-37.0.4 great-expectations-0.15.15 jsonpatch-1.32 jsonpointer-2.3 notebook-6.4.12 prompt-toolkit-3.0.30 pyparsing-2.4.7 ruamel.yaml-0.17.17 ruamel.yaml.clib-0.2.6 tornado-6.2 urllib3-1.25.11\n"
          ]
        },
        {
          "output_type": "display_data",
          "data": {
            "application/vnd.colab-display-data+json": {
              "pip_warning": {
                "packages": [
                  "IPython",
                  "prompt_toolkit",
                  "pyparsing",
                  "tornado"
                ]
              }
            }
          },
          "metadata": {}
        }
      ]
    },
    {
      "cell_type": "code",
      "source": [
        "# Package imports that will be needed for this project\n",
        "\n",
        "import numpy as np\n",
        "import json\n",
        "from sentence_transformers import SentenceTransformer\n",
        "from pprint import pprint\n",
        "from sklearn.linear_model import LogisticRegression\n",
        "from sklearn import metrics as sklearn_metrics"
      ],
      "metadata": {
        "id": "4Huab9R3XZr_"
      },
      "execution_count": 2,
      "outputs": []
    },
    {
      "cell_type": "code",
      "source": [
        "# Global Constants\n",
        "\n",
        "LABEL_SET = [\n",
        "    'Business',\n",
        "    'Sci/Tech',\n",
        "    'Software and Developement',\n",
        "    'Entertainment',\n",
        "    'Sports',\n",
        "    'Health',\n",
        "    'Toons',\n",
        "    'Music Feeds'\n",
        "]\n",
        "\n",
        "EMBEDDING_MODEL = 'all-mpnet-base-v2'\n",
        "DATA_URL = 'https://corise-mlops.s3.us-west-2.amazonaws.com/project2/agnews.zip'"
      ],
      "metadata": {
        "id": "qBHFKy2-Xbpz"
      },
      "execution_count": 3,
      "outputs": []
    },
    {
      "cell_type": "markdown",
      "source": [
        "## Step 2: Download and Load Dataset\n",
        "\n",
        "[AG News](http://groups.di.unipi.it/~gulli/AG_corpus_of_news_articles.html) is a collection of more than 1 million news articles gathered from more than 2000 news sources by an academic news search engine. The news topic classification dataset & benchmark was first used in [Character-level Convolutional Networks for Text Classification (NIPS 2015)](https://arxiv.org/abs/1509.01626). The dataset has the text description (summary) of the news article along with some metadata. **For this project, we will use a slightly modified (cleaned up) version of this dataset** \n",
        "\n",
        "Schema:\n",
        "* Source - News publication source\n",
        "* URL - URL of the news article\n",
        "* Title - Title of the news article\n",
        "* Description - Summary description of the news article\n",
        "* Embedding - 768 dimensional embedding representation of the news article text (description) \n",
        "* Category (Label) - News category\n",
        "\n",
        "Sample row in this dataset:\n",
        "```\n",
        "{\n",
        "   'description': 'A capsule carrying solar material from the Genesis space probe has made a crash landing at a US Air Force training facility in the US state of Utah.',\n",
        "   'id': 86273,\n",
        "   'label': 'Entertainment',\n",
        "   'source': 'Voice of America',\n",
        "   'title': 'Capsule from Genesis Space Probe Crashes in Utah Desert',\n",
        "   'Embedding': [....],\n",
        "   'url': 'http://www.sciencedaily.com/releases/2004/09/040908090621.htm'\n",
        "}\n",
        "```"
      ],
      "metadata": {
        "id": "KUb4NSF1Xgra"
      }
    },
    {
      "cell_type": "code",
      "source": [
        "from urllib.request import urlopen\n",
        "from io import BytesIO\n",
        "from zipfile import ZipFile\n",
        "\n",
        "DIRECTORY_NAME = \"data\"\n",
        "\n",
        "\n",
        "def download_dataset():\n",
        "    \"\"\"\n",
        "    Download the dataset. The zip contains three files: train.json, test.json and unlabeled.json \n",
        "    \"\"\"\n",
        "    http_response = urlopen(DATA_URL)\n",
        "    zipfile = ZipFile(BytesIO(http_response.read()))\n",
        "    zipfile.extractall(path=DIRECTORY_NAME)\n",
        "\n",
        "\n",
        "# Expensive operation so we should just do this once\n",
        "download_dataset()\n"
      ],
      "metadata": {
        "id": "g-9eqkvXXdu3"
      },
      "execution_count": null,
      "outputs": []
    },
    {
      "cell_type": "code",
      "source": [
        "Datasets = {}\n",
        "\n",
        "for ds in ['train', 'test']:\n",
        "    with open('data/{}.json'.format(ds), 'r') as f:\n",
        "        Datasets[ds] = json.load(f)\n",
        "    print(\"Loaded Dataset {0} with {1} rows\".format(ds, len(Datasets[ds])))\n",
        "\n",
        "print(\"\\nExample dataset row:\\n\")\n",
        "pprint(Datasets['train'][0])"
      ],
      "metadata": {
        "id": "vlrul_InXkpT"
      },
      "execution_count": null,
      "outputs": []
    },
    {
      "cell_type": "markdown",
      "source": [
        "## Step 3: Data Quality Tests\n",
        "\n",
        "In Week 2 instruction, we learned about the importance of evaluating data quality across the ML lifecycle:\n",
        "* When building your first ML model, you often have no data and have to invest in annotation resources to get labels\n",
        "* Dataset labels can be noisy as they are collected from a variety of different sources.\n",
        "* Real world evolves (drift) and so should the datasets you’re using to train models (to make sure they evolve along with it). \n",
        "\n",
        "[Great Expectations](https://docs.greatexpectations.io/docs/) is a popular Python library for validating data in Machine Learning pipelines. It contains several built-in Expectation types to configure tests, as well as integrations with common data structures used to store datasets (e.g. Pandas dataframes, CSV files, MySQL databases etc). We will be using this library to define and run some data quality tests for our dataset. The goal and scope of the exercise here is to get you acquainted with the library and practice of testing for data quality.\n",
        "\n",
        "Useful references for this section:\n",
        "1. Documentation: https://docs.greatexpectations.io/docs/\n",
        "2. Using Great Expections in Jupyter: https://docs.greatexpectations.io/docs/guides/miscellaneous/how_to_quickly_explore_expectations_in_a_notebook \n",
        "3. List of predefined Expecations: https://greatexpectations.io/expectations/\n",
        "4. Creating custom Expecations for Pandas dataframes: https://github.com/great-expectations/great_expectations/blob/develop/docs_rtd/guides/how_to_guides/creating_and_editing_expectations/how_to_create_custom_expectations_for_pandas.rst "
      ],
      "metadata": {
        "id": "PrXQFXeHXoa3"
      }
    },
    {
      "cell_type": "code",
      "source": [
        "import pandas as pd\n",
        "import great_expectations as ge\n",
        "from great_expectations.dataset import PandasDataset, MetaPandasDataset\n",
        "\n",
        "class AGNewsPandasDataset(PandasDataset):\n",
        "\n",
        "    _data_asset_type = \"AGNewsPandasDataset\"\n",
        "\n",
        "    @MetaPandasDataset.column_map_expectation\n",
        "    def expect_column_string_not_null_or_empty(self, column):\n",
        "        \"\"\"\n",
        "        [TO BE IMPLEMENTED]\n",
        "        \n",
        "        Write a custom expectation that checks that the string column's value for each\n",
        "        row is not NULL and not an empty string\n",
        "\n",
        "        Your code should look something like this:\n",
        "        column.map(lambda x: ...)\n",
        "        \"\"\"\n",
        "        return None\n",
        "\n",
        "    @MetaPandasDataset.column_map_expectation\n",
        "    def expect_column_embedding_dimensionality(self, column, dimension):\n",
        "        \"\"\"\n",
        "        [TO BE IMPLEMENTED]\n",
        "        \n",
        "        Write a custom expectation that checks that the embedding column's value for each\n",
        "        row is not NULL and dim(embedding) == dimension\n",
        "\n",
        "        Your code should look something like this:\n",
        "        column.map(lambda x: ...)\n",
        "        \"\"\"\n",
        "        return None\n",
        "    \n",
        "    @MetaPandasDataset.column_map_expectation\n",
        "    def expect_column_in_range(self, column, range_min, range_max):\n",
        "        \"\"\"\n",
        "        [TO BE IMPLEMENTED]\n",
        "        \n",
        "        Write a custom expectation that checks that the column's value for each\n",
        "        row is in range [range_min, range_max]\n",
        "\n",
        "        Your code should look something like this:\n",
        "        column.map(lambda x: ...)\n",
        "        \"\"\"\n",
        "        return None\n",
        "    \n",
        "    @MetaPandasDataset.column_map_expectation\n",
        "    def expect_column_embedding_unit_norm(self, column):\n",
        "        \"\"\"\n",
        "        [TO BE IMPLEMENTED]\n",
        "        \n",
        "        Write a custom expectation that checks that the embedding column's value for each\n",
        "        row is not NULL and norm(embedding) == 1\n",
        "\n",
        "        Your code should look something like this:\n",
        "        column.map(lambda x: ...)\n",
        "        \"\"\"\n",
        "        return None\n"
      ],
      "metadata": {
        "id": "NqXtx4CpXmNu"
      },
      "execution_count": null,
      "outputs": []
    },
    {
      "cell_type": "code",
      "source": [
        "Dataframes = {}\n",
        "\n",
        "for ds in ['train', 'test']:\n",
        "    Dataframes[ds] = ge.from_pandas(\n",
        "        pd.DataFrame.from_records(Datasets[ds]), \n",
        "        dataset_class=AGNewsPandasDataset\n",
        "    )"
      ],
      "metadata": {
        "id": "UCRnbQTOXuwG"
      },
      "execution_count": null,
      "outputs": []
    },
    {
      "cell_type": "code",
      "source": [
        "for ds in ['train', 'test']:\n",
        "    \"\"\"\n",
        "    [TO BE IMPLEMENTED]\n",
        "        \n",
        "    Expect columns in Dataframes[ds] to match the column set: \n",
        "    {'id', 'source', 'title', 'url', 'rank', 'description', 'embedding', 'label'}\n",
        "    \"\"\"\n",
        "\n",
        "    \"\"\"\n",
        "    [TO BE IMPLEMENTED]\n",
        "        \n",
        "    Expect the \"id\" column in Dataframes[ds] to be unique\n",
        "    \"\"\"\n",
        "\n",
        "    \"\"\"\n",
        "    [TO BE IMPLEMENTED]\n",
        "        \n",
        "    Expect the \"description\" column in Dataframes[ds] not not be null or empty\n",
        "    \"\"\"\n",
        "\n",
        "    \"\"\" \n",
        "    [TO BE IMPLEMENTED]\n",
        "\n",
        "    Expect the \"embedding\" column in Dataframes[ds] should be non-NULL and dimensionality = 768\n",
        "    (Run this after implementing `expect_column_embedding_dimensionality` above)\n",
        "    \"\"\"\n",
        "\n",
        "    \"\"\" \n",
        "    [TO BE IMPLEMENTED]\n",
        "\n",
        "    Expect the \"embedding\" column in Dataframes[ds] should be unit norm vectors\n",
        "    (Run this after implementing `expect_column_embedding_unit_norm` above)\n",
        "    \"\"\"\n",
        "\n",
        "    \"\"\" \n",
        "    [TO BE IMPLEMENTED]\n",
        "\n",
        "    Expect the \"rank\" column in Dataframes[ds] should be in range [1, 5]\n",
        "    \"\"\"\n"
      ],
      "metadata": {
        "id": "dFjsWCPbXwf6"
      },
      "execution_count": null,
      "outputs": []
    },
    {
      "cell_type": "code",
      "source": [
        "validation_train = Dataframes[\"train\"].validate()\n",
        "\n",
        "pprint(validation_train)\n"
      ],
      "metadata": {
        "id": "Yz9fmvgxX0jr"
      },
      "execution_count": null,
      "outputs": []
    },
    {
      "cell_type": "code",
      "source": [
        "validation_test = Dataframes[\"test\"].validate()\n",
        "\n",
        "pprint(validation_test)\n"
      ],
      "metadata": {
        "id": "o0sNxBSeX1Qv"
      },
      "execution_count": null,
      "outputs": []
    },
    {
      "cell_type": "code",
      "source": [
        "\"\"\" \n",
        "[TO BE IMPLEMENTED]\n",
        "\n",
        "Take a look at the results from the data validation tests. You will observe that some rows in the \n",
        "training and test sets have failed the validation for the following test:\n",
        "\n",
        "Expect the \"description\" column in Dataframes[ds] not not be null or empty\n",
        "\n",
        "This is a good catch! We know that these rows in training or test set likely just add noise to the model\n",
        "since it is not very relevant to ask the model to predict the category of a news article with no text.\n",
        "\n",
        "In this step, you will filter out the rows from Datasets['train'] and Datasets['test']\n",
        "and create a new Datasets_filtered object with the filtered datasets\n",
        "\"\"\"\n",
        "\n",
        "Datasets_filtered = {}\n",
        "Datasets_filtered['train'] = []\n",
        "Datasets_filtered['test'] = []"
      ],
      "metadata": {
        "id": "VtLCXCGtX2ht"
      },
      "execution_count": null,
      "outputs": []
    },
    {
      "cell_type": "markdown",
      "source": [
        "## Step 4: Fine-grained Model Evaluation\n",
        "\n",
        "Model performance evaluation for real-world ML applications can often be complex since different stakeholders (ML engineers, product managers, sales teams) care about the impact on different dimensions. In this exercise, we will evaluate the News category classification from Week 1 in the following ways:\n",
        "\n",
        "\n",
        "* **Aggregate performance metrics**: Using standard metrics to evaluate ML model performance such as accuracy, mean squared error, BLEU scores etc (depending on the ML task) is a necessary first step, but far from sufficient. It serves to filter out models that are clearly suboptimal and reduces risk of launching bad models\n",
        "\n",
        "* **Slice-level performance metrics**: It is important to track model performance not just in aggregate but for important cohorts/slices of your traffic. For example, it is important to track the performance of your hate speech detection model not just in aggregate but for traffic from each country, language etc to understand the gaps in performance.\n",
        "  \n",
        "* **Qualitative evaluations**: Behavioral tests can be helpful to root-cause individual instances of model failures and yield helpful insights to improve models"
      ],
      "metadata": {
        "id": "gfoE5tB8YCax"
      }
    },
    {
      "cell_type": "code",
      "source": [
        "# In order to minimize variations from different model architectures & training procedures, \n",
        "# we will keep the model architecture and feature sets uniform\n",
        "\n",
        "X_train, Y_train = [], []\n",
        "X_test, Y_true = [], []\n",
        "\n",
        "for row in Datasets_filtered['train']:\n",
        "    X_train.append(row['embedding'])\n",
        "    Y_train.append(row['label'])\n",
        "\n",
        "for row in Datasets_filtered['test']:\n",
        "    X_test.append(row['embedding'])\n",
        "    Y_true.append(row['label'])\n",
        "\n",
        "model = LogisticRegression(\n",
        "    multi_class='multinomial',\n",
        "    tol=0.001,\n",
        "    solver='saga',\n",
        ")\n",
        "model.fit(X_train, Y_train)\n",
        "Y_pred = model.predict(X_test)"
      ],
      "metadata": {
        "id": "DnvOr2MZYEUA"
      },
      "execution_count": null,
      "outputs": []
    },
    {
      "cell_type": "code",
      "source": [
        "## This should be roughly in the same range as the results you got in Week 1\n",
        "\n",
        "print(\"Accuracy on test set: {}\".format(sklearn_metrics.accuracy_score(Y_true, Y_pred)))\n"
      ],
      "metadata": {
        "id": "aWjRTYDfYGl8"
      },
      "execution_count": null,
      "outputs": []
    },
    {
      "cell_type": "markdown",
      "source": [
        "## Step 4 (Part 1): Confusion Matrix and Slice-based evaluation\n",
        "\n",
        "As we saw with issues discussed around rare classes and model bias, evaluating the performance metrics at the overall dataset level is often not enough to deploy in production. Here are some commonly used axes along which ML teams commonly slice their datasets:\n",
        "\n",
        "1. Labels (i.e. per-class performance)\n",
        "2. Key categorical features or buckets of continuous features. E.g. a recommender system’s performance for each gender, age group.\n",
        "3. Key traffic cohorts as defined by business value/regulatory requirements. E.g. a recommender system’s performance for newly registered users (it is important they have a good product experience else they will stop using the product)\n",
        "\n",
        "In this exercise, we will dig into per-class performance"
      ],
      "metadata": {
        "id": "wysCZrSgYIWW"
      }
    },
    {
      "cell_type": "code",
      "source": [
        "\"\"\" \n",
        "[TO BE IMPLEMENTED]\n",
        "\n",
        "Plot a confusion matrix for the news category classification model trained above. \n",
        "You should have a NxN matrix M, where \n",
        "N = len(LABEL_SET)\n",
        "M(i, j) = number of instances in the test set where true_label = LABEL_SET[i] and pred_label = LABEL_SET[j]\n",
        "\n",
        "Hint: check out sklearn.metrics \n",
        "\n",
        "\"\"\""
      ],
      "metadata": {
        "id": "P1QSyb15YLHR"
      },
      "execution_count": null,
      "outputs": []
    },
    {
      "cell_type": "code",
      "source": [
        "\"\"\" \n",
        "[TO BE IMPLEMENTED]\n",
        "\n",
        "Compute the precision, recall and F1 score per-class for the test set\n",
        "\n",
        "Hint: check out sklearn.metrics \n",
        "\"\"\"\n"
      ],
      "metadata": {
        "id": "5FRR5csbYM5o"
      },
      "execution_count": null,
      "outputs": []
    },
    {
      "cell_type": "code",
      "source": [
        "import random \n",
        "\n",
        "def confusion_matrix_errors(X, Y, preds, true_label, pred_label, num_errors=100):\n",
        "    \"\"\" \n",
        "    [TO BE IMPLEMENTED]\n",
        "\n",
        "    Write a function `confusion_matrix_errors` that accepts the following inputs:\n",
        "    1. The test dataset\n",
        "    2. True and predicted labels for each row in the dataset\n",
        "    3. A pair of labels (T, P)\n",
        "\n",
        "    And returns the `num_errors` no. of errors from the test dataset where true_label = T and pred_label = P\n",
        "    \"\"\"\n",
        "    errors = []\n",
        "    return random.sample(errors, num_errors)\n",
        "\n",
        "\n",
        "\"\"\" \n",
        "[TO BE IMPLEMENTED]\n",
        "Use the function implemented above to get some insights about the kind of examples that the model\n",
        "is confused about for a given pair of classes\n",
        "Some pairs to try out: ('Entertainment', 'Sports'), ('Health', 'Sports'), ('Business', 'Sci/Tech')\n",
        "\"\"\"\n",
        "for e in confusion_matrix_errors(Datasets['test'], Y_true, Y_pred, 'Entertainment', 'Sports'):\n",
        "    print(e['description'])"
      ],
      "metadata": {
        "id": "OEXjTYqMYPJ4"
      },
      "execution_count": null,
      "outputs": []
    },
    {
      "cell_type": "markdown",
      "source": [
        "## Step 4 (Part 2): Estimating confidence intervals with Bootstrap sampling\n",
        "\n",
        "When computing model performance metrics, the margin of error can vary a lot depending on the size of the test dataset. We are trying to estimate the model’s performance on any unseen data by empirically computing the model performance on the held-out test set, and trying to quantify the confidence intervals in this estimation: If we were to measure the model’s performance on another independently collected test dataset from the same underlying distribution, our model’s performance on this dataset is unlikely to be the same, but how different might they plausibly be? \n",
        "\n",
        "In this exercise, we will implement Bootstrap sampling to estimate the 95% confidence interval for \n",
        "overall accuracy and F1-score of the model:\n",
        "\n",
        "1. Generate N ‘bootstrap sample’ datasets, each the same size as the original test set. Each bootstrap sample dataset is obtained by sampling instances uniformly at random from the original test set (with replacement).\n",
        "2. On each of the bootstrap sample datasets, calculate the accuracy metric.\n",
        "3. From Step (2), you will end up with N different accuracy values. Sort them.\n",
        "4. The 95% confidence interval is given by the 2.5th to the 97.5th percentile among the N sorted accuracy values.\n"
      ],
      "metadata": {
        "id": "0lXPDJZjYTNo"
      }
    },
    {
      "cell_type": "code",
      "source": [
        "def bootstrap_accuracy_distribution(Y_true, Y_pred, N = 1000):\n",
        "    \"\"\" \n",
        "    [TO BE IMPLEMENTED]\n",
        "    \n",
        "    Implement this function that takes two lists: Y_true, Y_pred\n",
        "    and the number of bootstrap trials (N). \n",
        "    \n",
        "    It should return a list (ret) of length = N, where ret[i] = accuracy metric from i-th bootstrap sampling run\n",
        "    \"\"\"\n",
        "    bootstrap_vals = [0]*N\n",
        "    return bootstrap_vals\n",
        "\n"
      ],
      "metadata": {
        "id": "GPt-rrOZYVDn"
      },
      "execution_count": null,
      "outputs": []
    },
    {
      "cell_type": "code",
      "source": [
        "import matplotlib.pyplot as plt\n",
        "NUM_BOOTSTRAP = 1000\n",
        "\n",
        "bs_vals = bootstrap_accuracy_distribution(Y_true, Y_pred, NUM_BOOTSTRAP)\n",
        "bs_vals = sorted(bs_vals)\n",
        "\n",
        "print(\"95 percent confidence interval: [{0}, {1}]\".format(\n",
        "    bs_vals[25],    # 2.5th percentile\n",
        "    bs_vals[975]    # 97.5th percentile\n",
        "))\n",
        "\n",
        "_ = plt.hist(bs_vals, bins='auto')\n",
        "plt.show()"
      ],
      "metadata": {
        "id": "-DGA1Q7TYWmT"
      },
      "execution_count": null,
      "outputs": []
    },
    {
      "cell_type": "markdown",
      "source": [
        "## Step 4 (Part 3): Minimum Functionality behavioral Tests\n",
        "\n",
        "Unit tests and integration tests play an important role in testing software for bugs, inefficiencies and potential vulnerabilities. Can we employ a similar approach to testing ML models? This exercise introduces the concept of “behavioral testing”  for machine learning models. \n",
        "\n",
        "Minimum Functionality Tests are a class of behavioral tests, and equivalents of “unit tests in software engineering” - a collection of simple examples (and labels) to check a behavior. A recommended practice is to write minimum functionality tests for highly visible/high cost potential failure modes, and for failure modes that you uncover during error analysis to guard against such failures in the future. \n",
        "\n",
        "For this exercise, we will use a popular open source library called [Checklist](https://github.com/marcotcr/checklist) to configure and run behavioral tests for our model. The goal and scope of the exercise here is to get you acquainted with the library and practice of testing for minimum functionality. \n",
        "\n",
        "Useful references:\n",
        "1. Getting started with Checklist: https://github.com/marcotcr/checklist\n",
        "2. Creating & Running tests with Checklist: https://github.com/marcotcr/checklist/blob/9baab717e44e216697f7ef0730ee269db9ef7d5b/notebooks/tutorials/3.%20Test%20types,%20expectation%20functions,%20running%20tests.ipynb "
      ],
      "metadata": {
        "id": "edi_vbSrYbKo"
      }
    },
    {
      "cell_type": "code",
      "source": [
        "import checklist\n",
        "from checklist.editor import Editor\n",
        "from checklist.test_types import MFT\n",
        "from checklist.pred_wrapper import PredictorWrapper\n",
        "\n",
        "# Run some warmup code to get you familiar with templates in checlist\n",
        "editor = Editor()\n",
        "ret = editor.template('{first_name} is {a:profession} from {country}.',\n",
        "                      profession=['lawyer', 'doctor', 'accountant'])\n",
        "np.random.choice(ret.data, 3)"
      ],
      "metadata": {
        "id": "PsPlmzL2YcB8"
      },
      "execution_count": null,
      "outputs": []
    },
    {
      "cell_type": "code",
      "source": [
        "\"\"\" \n",
        "[TO BE IMPLEMENTED]\n",
        "\n",
        "Part 1: Data Generation for behavioral tests\n",
        "\n",
        "1. News Source variation:\n",
        "{source}: Astronomers expect the Perseid meteor shower to be one of the best versions of the shooting star events in several years\n",
        "source = ['New York Times', 'Reuters', 'AP', 'Wall Street Journal', 'Quanta', 'BBC', 'BBC UK', 'Yahoo News']\n",
        "label = \"Sci/Tech\"\n",
        "\n",
        "2. Company Name variation:\n",
        "{company} revealed Thursday that its old recipe of adding stores is longer is a source of new profits for the company.\n",
        "company = ['McDonalds', 'Starbucks', 'Chipotle', 'Krispy Creme', 'Unknown Company']\n",
        "label = \"Sci/Tech\"\n",
        "\n",
        "3. Company Name variation:\n",
        "{company} revealed Thursday that its old recipe of adding stores is longer is a source of new profits for the company.\n",
        "company = ['McDonalds', 'Starbucks', 'Chipotle', 'Krispy Creme', 'Unknown Company']\n",
        "label = \"Sci/Tech\"\n",
        "\n",
        "4. \n",
        "{disease} will come under the {mask} during the charity gala event being held on Monday at 7pm\n",
        "disease = ['Breast cancer', 'Heart disease', 'Diabetes']\n",
        "\"\"\"\n",
        "\n",
        "editor = Editor()\n",
        "# [TO BE IMPLEMENTED]\n",
        "# ret = editor.template(...)\n",
        "# ret += editor.template(...)\n",
        "# ret += editor.template(...)\n",
        "\n"
      ],
      "metadata": {
        "id": "t5VZdy7nYfj3"
      },
      "execution_count": null,
      "outputs": []
    },
    {
      "cell_type": "code",
      "source": [
        "\"\"\" \n",
        "Part 2: Test Configuration\n",
        "\"\"\"\n",
        "\n",
        "test = MFT(**ret, name='AG News MFT tests')"
      ],
      "metadata": {
        "id": "_jcgRLWmYj6H"
      },
      "execution_count": null,
      "outputs": []
    },
    {
      "cell_type": "code",
      "source": [
        "\"\"\" \n",
        "Part 3: Test Run & Results summary\n",
        "\"\"\"\n",
        "\n",
        "def encode_and_predict(inputs):\n",
        "    encoder = SentenceTransformer(\n",
        "        'sentence-transformers/{model}'.format(model=EMBEDDING_MODEL)\n",
        "    )\n",
        "    encodings = [encoder.encode(x, normalize_embeddings=True) for x in inputs]\n",
        "    return model.predict(encodings)\n",
        "\n",
        "# wrapped_pp returns a tuple with (predictions, softmax confidences)\n",
        "wrapped_pp = PredictorWrapper.wrap_predict(encode_and_predict)\n",
        "test.run(wrapped_pp, overwrite=True)\n",
        "test.summary()"
      ],
      "metadata": {
        "id": "dqhzDdpnYlbB"
      },
      "execution_count": null,
      "outputs": []
    },
    {
      "cell_type": "markdown",
      "source": [
        "## Step 5: [Optional] Advanced data quality and behavioral tests\n",
        "\n",
        "In the previous steps, you have familiarized yourself with libraries for writing data quality tests (great expectations) and behavioral tests (checkist). Take it out for a spin! A few possible extensions you can try:\n",
        "\n",
        "1. **Model invariance behavioral tests** -- in step 4, we wrote some minimum functionality tests. Can you design some useful invariance behavioral tests? \n",
        "\n",
        "2. **Embedding drift based data quality checks across Training/Test datasets** -- in step 3, we wrote some data quality tests. If we wanted to check for drift in embedding space between training and test data, how might we construct a data quality test for this? Hint: The distribution of euclidean distance between pairs of embeddings within the training, and between the training and test dataset should be “almost the same”\n",
        "\n"
      ],
      "metadata": {
        "id": "h7lNfekkYu8g"
      }
    }
  ]
}